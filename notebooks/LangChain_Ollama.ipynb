{
 "cells": [
  {
   "cell_type": "markdown",
   "id": "9c380220-1b49-4b47-8647-a99f05e889c5",
   "metadata": {},
   "source": [
    "# LangChain with Ollama"
   ]
  },
  {
   "cell_type": "code",
   "execution_count": 1,
   "id": "10b33881-8fbc-4282-9edf-a312a8e6f81e",
   "metadata": {},
   "outputs": [],
   "source": [
    "from langchain_ollama import ChatOllama\n",
    "\n",
    "def get_response(system_context: str, prompt: str, model: str = \"llama3.3\"):\n",
    "    llm = ChatOllama(\n",
    "        model=model,\n",
    "        temperature=0.8,\n",
    "        num_predict=1000,\n",
    "    )\n",
    "\n",
    "    messages = [\n",
    "        (\"system\", system_context),\n",
    "        (\"human\", prompt),\n",
    "    ]\n",
    "\n",
    "    response = llm.invoke(messages)\n",
    "    return response.content"
   ]
  },
  {
   "cell_type": "markdown",
   "id": "a04e2e84-5731-4f90-b69e-8aa19843d6b2",
   "metadata": {},
   "source": [
    "## llama3.2:1b"
   ]
  },
  {
   "cell_type": "code",
   "execution_count": 2,
   "id": "a1944e63-e532-4449-b125-94937a0a8ed8",
   "metadata": {},
   "outputs": [
    {
     "name": "stdout",
     "output_type": "stream",
     "text": [
      "Star Wars is a space opera franchise created by George Lucas that follows a group of heroes and villains as they battle for control of the galaxy in a richly detailed fictional universe filled with iconic characters, memorable locations, and epic battles between good and evil.\n"
     ]
    }
   ],
   "source": [
    "system_context = \"\"\"You're an AI assistant.\"\"\"\n",
    "prompt = \"What is Star Wars in one sentence?\"\n",
    "\n",
    "response = get_response(system_context, prompt, model=\"llama3.2:1b\")\n",
    "print(response)"
   ]
  },
  {
   "cell_type": "markdown",
   "id": "662d6574-21c3-44c8-906b-dc86a55aee26",
   "metadata": {},
   "source": [
    "## llama3.2:3b"
   ]
  },
  {
   "cell_type": "code",
   "execution_count": 3,
   "id": "0e7627f1-997c-496e-8a17-0b5e69c6bb86",
   "metadata": {},
   "outputs": [
    {
     "name": "stdout",
     "output_type": "stream",
     "text": [
      "Star Wars is a space opera franchise created by George Lucas, following the adventures of heroes and villains in a galaxy far, far away as they battle for freedom, justice, and survival against the evil Empire.\n"
     ]
    }
   ],
   "source": [
    "system_context = \"\"\"You're an AI assistant.\"\"\"\n",
    "prompt = \"What is Star Wars in one sentence?\"\n",
    "\n",
    "response = get_response(system_context, prompt, model=\"llama3.2:3b\")\n",
    "print(response)"
   ]
  },
  {
   "cell_type": "markdown",
   "id": "a679c865-c957-4a0d-9b86-5a596c35e1d2",
   "metadata": {},
   "source": [
    "## lama3.3"
   ]
  },
  {
   "cell_type": "code",
   "execution_count": 4,
   "id": "4dbc2103-838c-4ee7-8bce-a75ded01415d",
   "metadata": {},
   "outputs": [
    {
     "name": "stdout",
     "output_type": "stream",
     "text": [
      "Star Wars is a iconic science fiction franchise created by George Lucas that follows a galaxy-spanning struggle between good and evil, as heroic characters like Luke Skywalker, Han Solo, and Princess Leia battle against the dark forces of the Empire and its powerful villains, including Darth Vader.\n"
     ]
    }
   ],
   "source": [
    "system_context = \"\"\"You're an AI assistant.\"\"\"\n",
    "prompt = \"What is Star Wars in one sentence?\"\n",
    "\n",
    "response = get_response(system_context, prompt, model=\"llama3.3\")\n",
    "print(response)"
   ]
  }
 ],
 "metadata": {
  "kernelspec": {
   "display_name": "Python 3 (ipykernel)",
   "language": "python",
   "name": "python3"
  },
  "language_info": {
   "codemirror_mode": {
    "name": "ipython",
    "version": 3
   },
   "file_extension": ".py",
   "mimetype": "text/x-python",
   "name": "python",
   "nbconvert_exporter": "python",
   "pygments_lexer": "ipython3",
   "version": "3.11.0"
  }
 },
 "nbformat": 4,
 "nbformat_minor": 5
}
