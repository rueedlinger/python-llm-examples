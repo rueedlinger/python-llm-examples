{
 "cells": [
  {
   "cell_type": "markdown",
   "id": "52441162-2bda-4b78-a0b9-a21231e48f5c",
   "metadata": {},
   "source": [
    "# Pydantic AI Integration with Ollama\n",
    "\n",
    "This example demonstrates how to use Pydantic AI with Ollama to run different LLM models locally. It supports various Llama models including llama3.2:1b, llama3.2:3b, and llama3.3.\n",
    "\n",
    "Prerequisites:\n",
    "- Ollama must be installed and running locally\n",
    "- The desired Llama models must be pulled using Ollama (e.g., `ollama pull llama3.3`)"
   ]
  },
  {
   "cell_type": "code",
   "execution_count": 1,
   "id": "36c786b0-888a-4001-8aa3-7ed2165e4edd",
   "metadata": {},
   "outputs": [],
   "source": [
    "# Try the following to run asynchronous code on a notebook (you might pip install nest_asyncio if not already)\n",
    "\n",
    "import nest_asyncio\n",
    "nest_asyncio.apply()\n"
   ]
  },
  {
   "cell_type": "code",
   "execution_count": 2,
   "id": "0038c472-7c45-42cb-96cd-efceeb534ea0",
   "metadata": {},
   "outputs": [],
   "source": [
    "from typing import List\n",
    "\n",
    "from pydantic import BaseModel\n",
    "from pydantic_ai import Agent\n",
    "from pydantic_ai.models.openai import OpenAIModel\n",
    "from pydantic_ai.providers.openai import OpenAIProvider\n",
    "\n",
    "\n",
    "class Result(BaseModel):\n",
    "    \"\"\"Result class for the agent.\"\"\"\n",
    "\n",
    "    countries: List[str] = []\n",
    "\n",
    "\n",
    "def get_countries(model_id: str, query: str):\n",
    "    ollama_model = OpenAIModel(\n",
    "        model_name=model_id,\n",
    "        provider=OpenAIProvider(base_url=\"http://localhost:11434/v1\"),\n",
    "    )\n",
    "    agent = Agent(\n",
    "        model=ollama_model,\n",
    "        output_type=Result,\n",
    "        retries=5,\n",
    "        system_prompt=(\n",
    "            \"You are a helpful AI assistant. \"\n",
    "            \"You will be given a text and you need to extract the countries from it. \"\n",
    "        ),\n",
    "    )\n",
    "    result = agent.run_sync(query)\n",
    "    return result"
   ]
  },
  {
   "cell_type": "markdown",
   "id": "cf2e567a-c2da-4d79-a67e-17c590f07b4f",
   "metadata": {},
   "source": [
    "## llama3.2:1b"
   ]
  },
  {
   "cell_type": "code",
   "execution_count": 3,
   "id": "50b4c610-bb5d-4561-a25b-cc241d8e9d84",
   "metadata": {},
   "outputs": [
    {
     "ename": "UnexpectedModelBehavior",
     "evalue": "Exceeded maximum retries (5) for result validation",
     "output_type": "error",
     "traceback": [
      "\u001b[31m---------------------------------------------------------------------------\u001b[39m",
      "\u001b[31mUnexpectedModelBehavior\u001b[39m                   Traceback (most recent call last)",
      "\u001b[36mCell\u001b[39m\u001b[36m \u001b[39m\u001b[32mIn[3]\u001b[39m\u001b[32m, line 4\u001b[39m\n\u001b[32m      1\u001b[39m prompt = \u001b[33m\"\u001b[39m\u001b[33mI love programming. I have been to France, Germany, and Japan. I also want to visit Brazil and Argentina.\u001b[39m\u001b[33m\"\u001b[39m\n\u001b[32m      2\u001b[39m model = \u001b[33m\"\u001b[39m\u001b[33mllama3.2:1b\u001b[39m\u001b[33m\"\u001b[39m\n\u001b[32m----> \u001b[39m\u001b[32m4\u001b[39m result = \u001b[43mget_countries\u001b[49m\u001b[43m(\u001b[49m\u001b[43mmodel\u001b[49m\u001b[43m,\u001b[49m\u001b[43m \u001b[49m\u001b[43mprompt\u001b[49m\u001b[43m)\u001b[49m\n\u001b[32m      5\u001b[39m \u001b[38;5;28mprint\u001b[39m(\u001b[33m\"\u001b[39m\u001b[33mresult:\u001b[39m\u001b[33m\"\u001b[39m, result.output)\n",
      "\u001b[36mCell\u001b[39m\u001b[36m \u001b[39m\u001b[32mIn[2]\u001b[39m\u001b[32m, line 29\u001b[39m, in \u001b[36mget_countries\u001b[39m\u001b[34m(model_id, query)\u001b[39m\n\u001b[32m     16\u001b[39m ollama_model = OpenAIModel(\n\u001b[32m     17\u001b[39m     model_name=model_id,\n\u001b[32m     18\u001b[39m     provider=OpenAIProvider(base_url=\u001b[33m\"\u001b[39m\u001b[33mhttp://localhost:11434/v1\u001b[39m\u001b[33m\"\u001b[39m),\n\u001b[32m     19\u001b[39m )\n\u001b[32m     20\u001b[39m agent = Agent(\n\u001b[32m     21\u001b[39m     model=ollama_model,\n\u001b[32m     22\u001b[39m     output_type=Result,\n\u001b[32m   (...)\u001b[39m\u001b[32m     27\u001b[39m     ),\n\u001b[32m     28\u001b[39m )\n\u001b[32m---> \u001b[39m\u001b[32m29\u001b[39m result = \u001b[43magent\u001b[49m\u001b[43m.\u001b[49m\u001b[43mrun_sync\u001b[49m\u001b[43m(\u001b[49m\u001b[43mquery\u001b[49m\u001b[43m)\u001b[49m\n\u001b[32m     30\u001b[39m \u001b[38;5;28;01mreturn\u001b[39;00m result\n",
      "\u001b[36mFile \u001b[39m\u001b[32m~/Library/Caches/pypoetry/virtualenvs/python-llm-examples-SaQWSH6n-py3.11/lib/python3.11/site-packages/pydantic_ai/agent.py:766\u001b[39m, in \u001b[36mAgent.run_sync\u001b[39m\u001b[34m(self, user_prompt, output_type, message_history, model, deps, model_settings, usage_limits, usage, infer_name, **_deprecated_kwargs)\u001b[39m\n\u001b[32m    763\u001b[39m     warnings.warn(\u001b[33m'\u001b[39m\u001b[33m`result_type` is deprecated, use `output_type` instead.\u001b[39m\u001b[33m'\u001b[39m, \u001b[38;5;167;01mDeprecationWarning\u001b[39;00m)\n\u001b[32m    764\u001b[39m     output_type = _deprecated_kwargs[\u001b[33m'\u001b[39m\u001b[33mresult_type\u001b[39m\u001b[33m'\u001b[39m]\n\u001b[32m--> \u001b[39m\u001b[32m766\u001b[39m \u001b[38;5;28;01mreturn\u001b[39;00m \u001b[43mget_event_loop\u001b[49m\u001b[43m(\u001b[49m\u001b[43m)\u001b[49m\u001b[43m.\u001b[49m\u001b[43mrun_until_complete\u001b[49m\u001b[43m(\u001b[49m\n\u001b[32m    767\u001b[39m \u001b[43m    \u001b[49m\u001b[38;5;28;43mself\u001b[39;49m\u001b[43m.\u001b[49m\u001b[43mrun\u001b[49m\u001b[43m(\u001b[49m\n\u001b[32m    768\u001b[39m \u001b[43m        \u001b[49m\u001b[43muser_prompt\u001b[49m\u001b[43m,\u001b[49m\n\u001b[32m    769\u001b[39m \u001b[43m        \u001b[49m\u001b[43moutput_type\u001b[49m\u001b[43m=\u001b[49m\u001b[43moutput_type\u001b[49m\u001b[43m,\u001b[49m\n\u001b[32m    770\u001b[39m \u001b[43m        \u001b[49m\u001b[43mmessage_history\u001b[49m\u001b[43m=\u001b[49m\u001b[43mmessage_history\u001b[49m\u001b[43m,\u001b[49m\n\u001b[32m    771\u001b[39m \u001b[43m        \u001b[49m\u001b[43mmodel\u001b[49m\u001b[43m=\u001b[49m\u001b[43mmodel\u001b[49m\u001b[43m,\u001b[49m\n\u001b[32m    772\u001b[39m \u001b[43m        \u001b[49m\u001b[43mdeps\u001b[49m\u001b[43m=\u001b[49m\u001b[43mdeps\u001b[49m\u001b[43m,\u001b[49m\n\u001b[32m    773\u001b[39m \u001b[43m        \u001b[49m\u001b[43mmodel_settings\u001b[49m\u001b[43m=\u001b[49m\u001b[43mmodel_settings\u001b[49m\u001b[43m,\u001b[49m\n\u001b[32m    774\u001b[39m \u001b[43m        \u001b[49m\u001b[43musage_limits\u001b[49m\u001b[43m=\u001b[49m\u001b[43musage_limits\u001b[49m\u001b[43m,\u001b[49m\n\u001b[32m    775\u001b[39m \u001b[43m        \u001b[49m\u001b[43musage\u001b[49m\u001b[43m=\u001b[49m\u001b[43musage\u001b[49m\u001b[43m,\u001b[49m\n\u001b[32m    776\u001b[39m \u001b[43m        \u001b[49m\u001b[43minfer_name\u001b[49m\u001b[43m=\u001b[49m\u001b[38;5;28;43;01mFalse\u001b[39;49;00m\u001b[43m,\u001b[49m\n\u001b[32m    777\u001b[39m \u001b[43m    \u001b[49m\u001b[43m)\u001b[49m\n\u001b[32m    778\u001b[39m \u001b[43m\u001b[49m\u001b[43m)\u001b[49m\n",
      "\u001b[36mFile \u001b[39m\u001b[32m~/Library/Caches/pypoetry/virtualenvs/python-llm-examples-SaQWSH6n-py3.11/lib/python3.11/site-packages/nest_asyncio.py:98\u001b[39m, in \u001b[36m_patch_loop.<locals>.run_until_complete\u001b[39m\u001b[34m(self, future)\u001b[39m\n\u001b[32m     95\u001b[39m \u001b[38;5;28;01mif\u001b[39;00m \u001b[38;5;129;01mnot\u001b[39;00m f.done():\n\u001b[32m     96\u001b[39m     \u001b[38;5;28;01mraise\u001b[39;00m \u001b[38;5;167;01mRuntimeError\u001b[39;00m(\n\u001b[32m     97\u001b[39m         \u001b[33m'\u001b[39m\u001b[33mEvent loop stopped before Future completed.\u001b[39m\u001b[33m'\u001b[39m)\n\u001b[32m---> \u001b[39m\u001b[32m98\u001b[39m \u001b[38;5;28;01mreturn\u001b[39;00m \u001b[43mf\u001b[49m\u001b[43m.\u001b[49m\u001b[43mresult\u001b[49m\u001b[43m(\u001b[49m\u001b[43m)\u001b[49m\n",
      "\u001b[36mFile \u001b[39m\u001b[32m~/.pyenv/versions/3.11.0/lib/python3.11/asyncio/futures.py:203\u001b[39m, in \u001b[36mFuture.result\u001b[39m\u001b[34m(self)\u001b[39m\n\u001b[32m    201\u001b[39m \u001b[38;5;28mself\u001b[39m.__log_traceback = \u001b[38;5;28;01mFalse\u001b[39;00m\n\u001b[32m    202\u001b[39m \u001b[38;5;28;01mif\u001b[39;00m \u001b[38;5;28mself\u001b[39m._exception \u001b[38;5;129;01mis\u001b[39;00m \u001b[38;5;129;01mnot\u001b[39;00m \u001b[38;5;28;01mNone\u001b[39;00m:\n\u001b[32m--> \u001b[39m\u001b[32m203\u001b[39m     \u001b[38;5;28;01mraise\u001b[39;00m \u001b[38;5;28mself\u001b[39m._exception.with_traceback(\u001b[38;5;28mself\u001b[39m._exception_tb)\n\u001b[32m    204\u001b[39m \u001b[38;5;28;01mreturn\u001b[39;00m \u001b[38;5;28mself\u001b[39m._result\n",
      "\u001b[36mFile \u001b[39m\u001b[32m~/.pyenv/versions/3.11.0/lib/python3.11/asyncio/tasks.py:267\u001b[39m, in \u001b[36mTask.__step\u001b[39m\u001b[34m(***failed resolving arguments***)\u001b[39m\n\u001b[32m    263\u001b[39m \u001b[38;5;28;01mtry\u001b[39;00m:\n\u001b[32m    264\u001b[39m     \u001b[38;5;28;01mif\u001b[39;00m exc \u001b[38;5;129;01mis\u001b[39;00m \u001b[38;5;28;01mNone\u001b[39;00m:\n\u001b[32m    265\u001b[39m         \u001b[38;5;66;03m# We use the `send` method directly, because coroutines\u001b[39;00m\n\u001b[32m    266\u001b[39m         \u001b[38;5;66;03m# don't have `__iter__` and `__next__` methods.\u001b[39;00m\n\u001b[32m--> \u001b[39m\u001b[32m267\u001b[39m         result = coro.send(\u001b[38;5;28;01mNone\u001b[39;00m)\n\u001b[32m    268\u001b[39m     \u001b[38;5;28;01melse\u001b[39;00m:\n\u001b[32m    269\u001b[39m         result = coro.throw(exc)\n",
      "\u001b[36mFile \u001b[39m\u001b[32m~/.pyenv/versions/3.11.0/lib/python3.11/contextlib.py:222\u001b[39m, in \u001b[36m_AsyncGeneratorContextManager.__aexit__\u001b[39m\u001b[34m(self, typ, value, traceback)\u001b[39m\n\u001b[32m    220\u001b[39m     value = typ()\n\u001b[32m    221\u001b[39m \u001b[38;5;28;01mtry\u001b[39;00m:\n\u001b[32m--> \u001b[39m\u001b[32m222\u001b[39m     \u001b[38;5;28;01mawait\u001b[39;00m \u001b[38;5;28mself\u001b[39m.gen.athrow(typ, value, traceback)\n\u001b[32m    223\u001b[39m \u001b[38;5;28;01mexcept\u001b[39;00m \u001b[38;5;167;01mStopAsyncIteration\u001b[39;00m \u001b[38;5;28;01mas\u001b[39;00m exc:\n\u001b[32m    224\u001b[39m     \u001b[38;5;66;03m# Suppress StopIteration *unless* it's the same exception that\u001b[39;00m\n\u001b[32m    225\u001b[39m     \u001b[38;5;66;03m# was passed to throw().  This prevents a StopIteration\u001b[39;00m\n\u001b[32m    226\u001b[39m     \u001b[38;5;66;03m# raised inside the \"with\" statement from being suppressed.\u001b[39;00m\n\u001b[32m    227\u001b[39m     \u001b[38;5;28;01mreturn\u001b[39;00m exc \u001b[38;5;129;01mis\u001b[39;00m \u001b[38;5;129;01mnot\u001b[39;00m value\n",
      "\u001b[36mFile \u001b[39m\u001b[32m~/.pyenv/versions/3.11.0/lib/python3.11/contextlib.py:222\u001b[39m, in \u001b[36m_AsyncGeneratorContextManager.__aexit__\u001b[39m\u001b[34m(self, typ, value, traceback)\u001b[39m\n\u001b[32m    220\u001b[39m     value = typ()\n\u001b[32m    221\u001b[39m \u001b[38;5;28;01mtry\u001b[39;00m:\n\u001b[32m--> \u001b[39m\u001b[32m222\u001b[39m     \u001b[38;5;28;01mawait\u001b[39;00m \u001b[38;5;28mself\u001b[39m.gen.athrow(typ, value, traceback)\n\u001b[32m    223\u001b[39m \u001b[38;5;28;01mexcept\u001b[39;00m \u001b[38;5;167;01mStopAsyncIteration\u001b[39;00m \u001b[38;5;28;01mas\u001b[39;00m exc:\n\u001b[32m    224\u001b[39m     \u001b[38;5;66;03m# Suppress StopIteration *unless* it's the same exception that\u001b[39;00m\n\u001b[32m    225\u001b[39m     \u001b[38;5;66;03m# was passed to throw().  This prevents a StopIteration\u001b[39;00m\n\u001b[32m    226\u001b[39m     \u001b[38;5;66;03m# raised inside the \"with\" statement from being suppressed.\u001b[39;00m\n\u001b[32m    227\u001b[39m     \u001b[38;5;28;01mreturn\u001b[39;00m exc \u001b[38;5;129;01mis\u001b[39;00m \u001b[38;5;129;01mnot\u001b[39;00m value\n",
      "\u001b[36mFile \u001b[39m\u001b[32m~/Library/Caches/pypoetry/virtualenvs/python-llm-examples-SaQWSH6n-py3.11/lib/python3.11/site-packages/pydantic_graph/graph.py:260\u001b[39m, in \u001b[36mGraph.iter\u001b[39m\u001b[34m(self, start_node, state, deps, persistence, span, infer_name)\u001b[39m\n\u001b[32m    258\u001b[39m \u001b[38;5;28;01melse\u001b[39;00m:\n\u001b[32m    259\u001b[39m     entered_span = stack.enter_context(span)\n\u001b[32m--> \u001b[39m\u001b[32m260\u001b[39m \u001b[38;5;28;01myield\u001b[39;00m GraphRun[StateT, DepsT, RunEndT](\n\u001b[32m    261\u001b[39m     graph=\u001b[38;5;28mself\u001b[39m, start_node=start_node, persistence=persistence, state=state, deps=deps, span=entered_span\n\u001b[32m    262\u001b[39m )\n",
      "\u001b[36mFile \u001b[39m\u001b[32m~/Library/Caches/pypoetry/virtualenvs/python-llm-examples-SaQWSH6n-py3.11/lib/python3.11/site-packages/pydantic_ai/agent.py:665\u001b[39m, in \u001b[36mAgent.iter\u001b[39m\u001b[34m(***failed resolving arguments***)\u001b[39m\n\u001b[32m    649\u001b[39m start_node = _agent_graph.UserPromptNode[AgentDepsT](\n\u001b[32m    650\u001b[39m     user_prompt=user_prompt,\n\u001b[32m    651\u001b[39m     instructions=\u001b[38;5;28mself\u001b[39m._instructions,\n\u001b[32m   (...)\u001b[39m\u001b[32m    655\u001b[39m     system_prompt_dynamic_functions=\u001b[38;5;28mself\u001b[39m._system_prompt_dynamic_functions,\n\u001b[32m    656\u001b[39m )\n\u001b[32m    658\u001b[39m \u001b[38;5;28;01masync\u001b[39;00m \u001b[38;5;28;01mwith\u001b[39;00m graph.iter(\n\u001b[32m    659\u001b[39m     start_node,\n\u001b[32m    660\u001b[39m     state=state,\n\u001b[32m   (...)\u001b[39m\u001b[32m    663\u001b[39m     infer_name=\u001b[38;5;28;01mFalse\u001b[39;00m,\n\u001b[32m    664\u001b[39m ) \u001b[38;5;28;01mas\u001b[39;00m graph_run:\n\u001b[32m--> \u001b[39m\u001b[32m665\u001b[39m     \u001b[38;5;28;01myield\u001b[39;00m AgentRun(graph_run)\n",
      "\u001b[36mFile \u001b[39m\u001b[32m~/Library/Caches/pypoetry/virtualenvs/python-llm-examples-SaQWSH6n-py3.11/lib/python3.11/site-packages/pydantic_ai/agent.py:436\u001b[39m, in \u001b[36mAgent.run\u001b[39m\u001b[34m(self, user_prompt, output_type, message_history, model, deps, model_settings, usage_limits, usage, infer_name, **_deprecated_kwargs)\u001b[39m\n\u001b[32m    424\u001b[39m     output_type = _deprecated_kwargs[\u001b[33m'\u001b[39m\u001b[33mresult_type\u001b[39m\u001b[33m'\u001b[39m]\n\u001b[32m    426\u001b[39m \u001b[38;5;28;01masync\u001b[39;00m \u001b[38;5;28;01mwith\u001b[39;00m \u001b[38;5;28mself\u001b[39m.iter(\n\u001b[32m    427\u001b[39m     user_prompt=user_prompt,\n\u001b[32m    428\u001b[39m     output_type=output_type,\n\u001b[32m   (...)\u001b[39m\u001b[32m    434\u001b[39m     usage=usage,\n\u001b[32m    435\u001b[39m ) \u001b[38;5;28;01mas\u001b[39;00m agent_run:\n\u001b[32m--> \u001b[39m\u001b[32m436\u001b[39m     \u001b[38;5;28;01masync\u001b[39;00m \u001b[38;5;28;01mfor\u001b[39;00m _ \u001b[38;5;129;01min\u001b[39;00m agent_run:\n\u001b[32m    437\u001b[39m         \u001b[38;5;28;01mpass\u001b[39;00m\n\u001b[32m    439\u001b[39m \u001b[38;5;28;01massert\u001b[39;00m agent_run.result \u001b[38;5;129;01mis\u001b[39;00m \u001b[38;5;129;01mnot\u001b[39;00m \u001b[38;5;28;01mNone\u001b[39;00m, \u001b[33m'\u001b[39m\u001b[33mThe graph run did not finish properly\u001b[39m\u001b[33m'\u001b[39m\n",
      "\u001b[36mFile \u001b[39m\u001b[32m~/Library/Caches/pypoetry/virtualenvs/python-llm-examples-SaQWSH6n-py3.11/lib/python3.11/site-packages/pydantic_ai/agent.py:1745\u001b[39m, in \u001b[36mAgentRun.__anext__\u001b[39m\u001b[34m(self)\u001b[39m\n\u001b[32m   1741\u001b[39m \u001b[38;5;28;01masync\u001b[39;00m \u001b[38;5;28;01mdef\u001b[39;00m\u001b[38;5;250m \u001b[39m\u001b[34m__anext__\u001b[39m(\n\u001b[32m   1742\u001b[39m     \u001b[38;5;28mself\u001b[39m,\n\u001b[32m   1743\u001b[39m ) -> _agent_graph.AgentNode[AgentDepsT, OutputDataT] | End[FinalResult[OutputDataT]]:\n\u001b[32m   1744\u001b[39m \u001b[38;5;250m    \u001b[39m\u001b[33;03m\"\"\"Advance to the next node automatically based on the last returned node.\"\"\"\u001b[39;00m\n\u001b[32m-> \u001b[39m\u001b[32m1745\u001b[39m     next_node = \u001b[38;5;28;01mawait\u001b[39;00m \u001b[38;5;28mself\u001b[39m._graph_run.\u001b[34m__anext__\u001b[39m()\n\u001b[32m   1746\u001b[39m     \u001b[38;5;28;01mif\u001b[39;00m _agent_graph.is_agent_node(next_node):\n\u001b[32m   1747\u001b[39m         \u001b[38;5;28;01mreturn\u001b[39;00m next_node\n",
      "\u001b[36mFile \u001b[39m\u001b[32m~/Library/Caches/pypoetry/virtualenvs/python-llm-examples-SaQWSH6n-py3.11/lib/python3.11/site-packages/pydantic_graph/graph.py:800\u001b[39m, in \u001b[36mGraphRun.__anext__\u001b[39m\u001b[34m(self)\u001b[39m\n\u001b[32m    797\u001b[39m \u001b[38;5;28;01mif\u001b[39;00m \u001b[38;5;28misinstance\u001b[39m(\u001b[38;5;28mself\u001b[39m._next_node, End):\n\u001b[32m    798\u001b[39m     \u001b[38;5;28;01mraise\u001b[39;00m \u001b[38;5;167;01mStopAsyncIteration\u001b[39;00m\n\u001b[32m--> \u001b[39m\u001b[32m800\u001b[39m \u001b[38;5;28;01mreturn\u001b[39;00m \u001b[38;5;28;01mawait\u001b[39;00m \u001b[38;5;28mself\u001b[39m.next(\u001b[38;5;28mself\u001b[39m._next_node)\n",
      "\u001b[36mFile \u001b[39m\u001b[32m~/.pyenv/versions/3.11.0/lib/python3.11/contextlib.py:222\u001b[39m, in \u001b[36m_AsyncGeneratorContextManager.__aexit__\u001b[39m\u001b[34m(self, typ, value, traceback)\u001b[39m\n\u001b[32m    220\u001b[39m     value = typ()\n\u001b[32m    221\u001b[39m \u001b[38;5;28;01mtry\u001b[39;00m:\n\u001b[32m--> \u001b[39m\u001b[32m222\u001b[39m     \u001b[38;5;28;01mawait\u001b[39;00m \u001b[38;5;28mself\u001b[39m.gen.athrow(typ, value, traceback)\n\u001b[32m    223\u001b[39m \u001b[38;5;28;01mexcept\u001b[39;00m \u001b[38;5;167;01mStopAsyncIteration\u001b[39;00m \u001b[38;5;28;01mas\u001b[39;00m exc:\n\u001b[32m    224\u001b[39m     \u001b[38;5;66;03m# Suppress StopIteration *unless* it's the same exception that\u001b[39;00m\n\u001b[32m    225\u001b[39m     \u001b[38;5;66;03m# was passed to throw().  This prevents a StopIteration\u001b[39;00m\n\u001b[32m    226\u001b[39m     \u001b[38;5;66;03m# raised inside the \"with\" statement from being suppressed.\u001b[39;00m\n\u001b[32m    227\u001b[39m     \u001b[38;5;28;01mreturn\u001b[39;00m exc \u001b[38;5;129;01mis\u001b[39;00m \u001b[38;5;129;01mnot\u001b[39;00m value\n",
      "\u001b[36mFile \u001b[39m\u001b[32m~/Library/Caches/pypoetry/virtualenvs/python-llm-examples-SaQWSH6n-py3.11/lib/python3.11/site-packages/pydantic_graph/persistence/in_mem.py:67\u001b[39m, in \u001b[36mSimpleStatePersistence.record_run\u001b[39m\u001b[34m(self, snapshot_id)\u001b[39m\n\u001b[32m     65\u001b[39m start = perf_counter()\n\u001b[32m     66\u001b[39m \u001b[38;5;28;01mtry\u001b[39;00m:\n\u001b[32m---> \u001b[39m\u001b[32m67\u001b[39m     \u001b[38;5;28;01myield\u001b[39;00m\n\u001b[32m     68\u001b[39m \u001b[38;5;28;01mexcept\u001b[39;00m \u001b[38;5;167;01mException\u001b[39;00m:\n\u001b[32m     69\u001b[39m     \u001b[38;5;28mself\u001b[39m.last_snapshot.duration = perf_counter() - start\n",
      "\u001b[36mFile \u001b[39m\u001b[32m~/Library/Caches/pypoetry/virtualenvs/python-llm-examples-SaQWSH6n-py3.11/lib/python3.11/site-packages/pydantic_graph/graph.py:773\u001b[39m, in \u001b[36mGraphRun.next\u001b[39m\u001b[34m(self, node)\u001b[39m\n\u001b[32m    771\u001b[39m     \u001b[38;5;28;01masync\u001b[39;00m \u001b[38;5;28;01mwith\u001b[39;00m \u001b[38;5;28mself\u001b[39m.persistence.record_run(node_snapshot_id):\n\u001b[32m    772\u001b[39m         ctx = GraphRunContext(\u001b[38;5;28mself\u001b[39m.state, \u001b[38;5;28mself\u001b[39m.deps)\n\u001b[32m--> \u001b[39m\u001b[32m773\u001b[39m         \u001b[38;5;28mself\u001b[39m._next_node = \u001b[38;5;28;01mawait\u001b[39;00m node.run(ctx)\n\u001b[32m    775\u001b[39m \u001b[38;5;28;01mif\u001b[39;00m \u001b[38;5;28misinstance\u001b[39m(\u001b[38;5;28mself\u001b[39m._next_node, End):\n\u001b[32m    776\u001b[39m     \u001b[38;5;28mself\u001b[39m._snapshot_id = \u001b[38;5;28mself\u001b[39m._next_node.get_snapshot_id()\n",
      "\u001b[36mFile \u001b[39m\u001b[32m~/Library/Caches/pypoetry/virtualenvs/python-llm-examples-SaQWSH6n-py3.11/lib/python3.11/site-packages/pydantic_ai/_agent_graph.py:383\u001b[39m, in \u001b[36mCallToolsNode.run\u001b[39m\u001b[34m(self, ctx)\u001b[39m\n\u001b[32m    380\u001b[39m \u001b[38;5;28;01masync\u001b[39;00m \u001b[38;5;28;01mdef\u001b[39;00m\u001b[38;5;250m \u001b[39m\u001b[34mrun\u001b[39m(\n\u001b[32m    381\u001b[39m     \u001b[38;5;28mself\u001b[39m, ctx: GraphRunContext[GraphAgentState, GraphAgentDeps[DepsT, NodeRunEndT]]\n\u001b[32m    382\u001b[39m ) -> Union[ModelRequestNode[DepsT, NodeRunEndT], End[result.FinalResult[NodeRunEndT]]]:  \u001b[38;5;66;03m# noqa UP007\u001b[39;00m\n\u001b[32m--> \u001b[39m\u001b[32m383\u001b[39m     \u001b[38;5;28;01masync\u001b[39;00m \u001b[38;5;28;01mwith\u001b[39;00m \u001b[38;5;28mself\u001b[39m.stream(ctx):\n\u001b[32m    384\u001b[39m         \u001b[38;5;28;01mpass\u001b[39;00m\n\u001b[32m    385\u001b[39m     \u001b[38;5;28;01massert\u001b[39;00m \u001b[38;5;28mself\u001b[39m._next_node \u001b[38;5;129;01mis\u001b[39;00m \u001b[38;5;129;01mnot\u001b[39;00m \u001b[38;5;28;01mNone\u001b[39;00m, \u001b[33m'\u001b[39m\u001b[33mthe stream should set `self._next_node` before it ends\u001b[39m\u001b[33m'\u001b[39m\n",
      "\u001b[36mFile \u001b[39m\u001b[32m~/.pyenv/versions/3.11.0/lib/python3.11/contextlib.py:211\u001b[39m, in \u001b[36m_AsyncGeneratorContextManager.__aexit__\u001b[39m\u001b[34m(self, typ, value, traceback)\u001b[39m\n\u001b[32m    209\u001b[39m \u001b[38;5;28;01mif\u001b[39;00m typ \u001b[38;5;129;01mis\u001b[39;00m \u001b[38;5;28;01mNone\u001b[39;00m:\n\u001b[32m    210\u001b[39m     \u001b[38;5;28;01mtry\u001b[39;00m:\n\u001b[32m--> \u001b[39m\u001b[32m211\u001b[39m         \u001b[38;5;28;01mawait\u001b[39;00m anext(\u001b[38;5;28mself\u001b[39m.gen)\n\u001b[32m    212\u001b[39m     \u001b[38;5;28;01mexcept\u001b[39;00m \u001b[38;5;167;01mStopAsyncIteration\u001b[39;00m:\n\u001b[32m    213\u001b[39m         \u001b[38;5;28;01mreturn\u001b[39;00m \u001b[38;5;28;01mFalse\u001b[39;00m\n",
      "\u001b[36mFile \u001b[39m\u001b[32m~/Library/Caches/pypoetry/virtualenvs/python-llm-examples-SaQWSH6n-py3.11/lib/python3.11/site-packages/pydantic_ai/_agent_graph.py:397\u001b[39m, in \u001b[36mCallToolsNode.stream\u001b[39m\u001b[34m(self, ctx)\u001b[39m\n\u001b[32m    394\u001b[39m \u001b[38;5;28;01myield\u001b[39;00m stream\n\u001b[32m    396\u001b[39m \u001b[38;5;66;03m# Run the stream to completion if it was not finished:\u001b[39;00m\n\u001b[32m--> \u001b[39m\u001b[32m397\u001b[39m \u001b[38;5;28;01masync\u001b[39;00m \u001b[38;5;28;01mfor\u001b[39;00m _event \u001b[38;5;129;01min\u001b[39;00m stream:\n\u001b[32m    398\u001b[39m     \u001b[38;5;28;01mpass\u001b[39;00m\n",
      "\u001b[36mFile \u001b[39m\u001b[32m~/Library/Caches/pypoetry/virtualenvs/python-llm-examples-SaQWSH6n-py3.11/lib/python3.11/site-packages/pydantic_ai/_agent_graph.py:446\u001b[39m, in \u001b[36mCallToolsNode._run_stream\u001b[39m\u001b[34m(self, ctx)\u001b[39m\n\u001b[32m    442\u001b[39m             \u001b[38;5;28;01mraise\u001b[39;00m exceptions.UnexpectedModelBehavior(\u001b[33m'\u001b[39m\u001b[33mReceived empty model response\u001b[39m\u001b[33m'\u001b[39m)\n\u001b[32m    444\u001b[39m     \u001b[38;5;28mself\u001b[39m._events_iterator = _run_stream()\n\u001b[32m--> \u001b[39m\u001b[32m446\u001b[39m \u001b[38;5;28;01masync\u001b[39;00m \u001b[38;5;28;01mfor\u001b[39;00m event \u001b[38;5;129;01min\u001b[39;00m \u001b[38;5;28mself\u001b[39m._events_iterator:\n\u001b[32m    447\u001b[39m     \u001b[38;5;28;01myield\u001b[39;00m event\n",
      "\u001b[36mFile \u001b[39m\u001b[32m~/Library/Caches/pypoetry/virtualenvs/python-llm-examples-SaQWSH6n-py3.11/lib/python3.11/site-packages/pydantic_ai/_agent_graph.py:424\u001b[39m, in \u001b[36mCallToolsNode._run_stream.<locals>._run_stream\u001b[39m\u001b[34m()\u001b[39m\n\u001b[32m    419\u001b[39m \u001b[38;5;66;03m# At the moment, we prioritize at least executing tool calls if they are present.\u001b[39;00m\n\u001b[32m    420\u001b[39m \u001b[38;5;66;03m# In the future, we'd consider making this configurable at the agent or run level.\u001b[39;00m\n\u001b[32m    421\u001b[39m \u001b[38;5;66;03m# This accounts for cases like anthropic returns that might contain a text response\u001b[39;00m\n\u001b[32m    422\u001b[39m \u001b[38;5;66;03m# and a tool call response, where the text response just indicates the tool call will happen.\u001b[39;00m\n\u001b[32m    423\u001b[39m \u001b[38;5;28;01mif\u001b[39;00m tool_calls:\n\u001b[32m--> \u001b[39m\u001b[32m424\u001b[39m     \u001b[38;5;28;01masync\u001b[39;00m \u001b[38;5;28;01mfor\u001b[39;00m event \u001b[38;5;129;01min\u001b[39;00m \u001b[38;5;28mself\u001b[39m._handle_tool_calls(ctx, tool_calls):\n\u001b[32m    425\u001b[39m         \u001b[38;5;28;01myield\u001b[39;00m event\n\u001b[32m    426\u001b[39m \u001b[38;5;28;01melif\u001b[39;00m texts:\n\u001b[32m    427\u001b[39m     \u001b[38;5;66;03m# No events are emitted during the handling of text responses, so we don't need to yield anything\u001b[39;00m\n",
      "\u001b[36mFile \u001b[39m\u001b[32m~/Library/Caches/pypoetry/virtualenvs/python-llm-examples-SaQWSH6n-py3.11/lib/python3.11/site-packages/pydantic_ai/_agent_graph.py:475\u001b[39m, in \u001b[36mCallToolsNode._handle_tool_calls\u001b[39m\u001b[34m(self, ctx, tool_calls)\u001b[39m\n\u001b[32m    473\u001b[39m \u001b[38;5;66;03m# Then build the other request parts based on end strategy\u001b[39;00m\n\u001b[32m    474\u001b[39m tool_responses: \u001b[38;5;28mlist\u001b[39m[_messages.ModelRequestPart] = \u001b[38;5;28mself\u001b[39m._tool_responses\n\u001b[32m--> \u001b[39m\u001b[32m475\u001b[39m \u001b[38;5;28;01masync\u001b[39;00m \u001b[38;5;28;01mfor\u001b[39;00m event \u001b[38;5;129;01min\u001b[39;00m process_function_tools(\n\u001b[32m    476\u001b[39m     tool_calls,\n\u001b[32m    477\u001b[39m     final_result \u001b[38;5;129;01mand\u001b[39;00m final_result.tool_name,\n\u001b[32m    478\u001b[39m     final_result \u001b[38;5;129;01mand\u001b[39;00m final_result.tool_call_id,\n\u001b[32m    479\u001b[39m     ctx,\n\u001b[32m    480\u001b[39m     tool_responses,\n\u001b[32m    481\u001b[39m ):\n\u001b[32m    482\u001b[39m     \u001b[38;5;28;01myield\u001b[39;00m event\n\u001b[32m    484\u001b[39m \u001b[38;5;28;01mif\u001b[39;00m final_result:\n",
      "\u001b[36mFile \u001b[39m\u001b[32m~/Library/Caches/pypoetry/virtualenvs/python-llm-examples-SaQWSH6n-py3.11/lib/python3.11/site-packages/pydantic_ai/_agent_graph.py:660\u001b[39m, in \u001b[36mprocess_function_tools\u001b[39m\u001b[34m(tool_calls, output_tool_name, output_tool_call_id, ctx, output_parts)\u001b[39m\n\u001b[32m    658\u001b[39m             output_parts.append(part)\n\u001b[32m    659\u001b[39m     \u001b[38;5;28;01melse\u001b[39;00m:\n\u001b[32m--> \u001b[39m\u001b[32m660\u001b[39m         output_parts.append(\u001b[43m_unknown_tool\u001b[49m\u001b[43m(\u001b[49m\u001b[43mcall\u001b[49m\u001b[43m.\u001b[49m\u001b[43mtool_name\u001b[49m\u001b[43m,\u001b[49m\u001b[43m \u001b[49m\u001b[43mcall\u001b[49m\u001b[43m.\u001b[49m\u001b[43mtool_call_id\u001b[49m\u001b[43m,\u001b[49m\u001b[43m \u001b[49m\u001b[43mctx\u001b[49m\u001b[43m)\u001b[49m)\n\u001b[32m    662\u001b[39m \u001b[38;5;28;01mif\u001b[39;00m \u001b[38;5;129;01mnot\u001b[39;00m calls_to_run:\n\u001b[32m    663\u001b[39m     \u001b[38;5;28;01mreturn\u001b[39;00m\n",
      "\u001b[36mFile \u001b[39m\u001b[32m~/Library/Caches/pypoetry/virtualenvs/python-llm-examples-SaQWSH6n-py3.11/lib/python3.11/site-packages/pydantic_ai/_agent_graph.py:730\u001b[39m, in \u001b[36m_unknown_tool\u001b[39m\u001b[34m(tool_name, tool_call_id, ctx)\u001b[39m\n\u001b[32m    725\u001b[39m \u001b[38;5;28;01mdef\u001b[39;00m\u001b[38;5;250m \u001b[39m\u001b[34m_unknown_tool\u001b[39m(\n\u001b[32m    726\u001b[39m     tool_name: \u001b[38;5;28mstr\u001b[39m,\n\u001b[32m    727\u001b[39m     tool_call_id: \u001b[38;5;28mstr\u001b[39m,\n\u001b[32m    728\u001b[39m     ctx: GraphRunContext[GraphAgentState, GraphAgentDeps[DepsT, NodeRunEndT]],\n\u001b[32m    729\u001b[39m ) -> _messages.RetryPromptPart:\n\u001b[32m--> \u001b[39m\u001b[32m730\u001b[39m     \u001b[43mctx\u001b[49m\u001b[43m.\u001b[49m\u001b[43mstate\u001b[49m\u001b[43m.\u001b[49m\u001b[43mincrement_retries\u001b[49m\u001b[43m(\u001b[49m\u001b[43mctx\u001b[49m\u001b[43m.\u001b[49m\u001b[43mdeps\u001b[49m\u001b[43m.\u001b[49m\u001b[43mmax_result_retries\u001b[49m\u001b[43m)\u001b[49m\n\u001b[32m    731\u001b[39m     tool_names = \u001b[38;5;28mlist\u001b[39m(ctx.deps.function_tools.keys())\n\u001b[32m    732\u001b[39m     \u001b[38;5;28;01mif\u001b[39;00m output_schema := ctx.deps.output_schema:\n",
      "\u001b[36mFile \u001b[39m\u001b[32m~/Library/Caches/pypoetry/virtualenvs/python-llm-examples-SaQWSH6n-py3.11/lib/python3.11/site-packages/pydantic_ai/_agent_graph.py:71\u001b[39m, in \u001b[36mGraphAgentState.increment_retries\u001b[39m\u001b[34m(self, max_result_retries)\u001b[39m\n\u001b[32m     69\u001b[39m \u001b[38;5;28mself\u001b[39m.retries += \u001b[32m1\u001b[39m\n\u001b[32m     70\u001b[39m \u001b[38;5;28;01mif\u001b[39;00m \u001b[38;5;28mself\u001b[39m.retries > max_result_retries:\n\u001b[32m---> \u001b[39m\u001b[32m71\u001b[39m     \u001b[38;5;28;01mraise\u001b[39;00m exceptions.UnexpectedModelBehavior(\n\u001b[32m     72\u001b[39m         \u001b[33mf\u001b[39m\u001b[33m'\u001b[39m\u001b[33mExceeded maximum retries (\u001b[39m\u001b[38;5;132;01m{\u001b[39;00mmax_result_retries\u001b[38;5;132;01m}\u001b[39;00m\u001b[33m) for result validation\u001b[39m\u001b[33m'\u001b[39m\n\u001b[32m     73\u001b[39m     )\n",
      "\u001b[31mUnexpectedModelBehavior\u001b[39m: Exceeded maximum retries (5) for result validation"
     ]
    }
   ],
   "source": [
    "prompt = \"I love programming. I have been to France, Germany, and Japan. I also want to visit Brazil and Argentina.\"\n",
    "model = \"llama3.2:1b\"\n",
    "\n",
    "result = get_countries(model, prompt)\n",
    "print(\"result:\", result.output)\n",
    "\n"
   ]
  },
  {
   "cell_type": "markdown",
   "id": "f543ed94-deb5-4540-aea8-3f5d82656d80",
   "metadata": {},
   "source": [
    "## llama3.2:3b"
   ]
  },
  {
   "cell_type": "code",
   "execution_count": null,
   "id": "5c9e597b-1e06-4359-94cf-a399e7b90d64",
   "metadata": {},
   "outputs": [],
   "source": [
    "prompt = \"I love programming. I have been to France, Germany, and Japan. I also want to visit Brazil and Argentina.\"\n",
    "model = \"llama3.2:3b\"\n",
    "\n",
    "result = get_countries(model, prompt)\n",
    "print(\"result:\", result.output)"
   ]
  },
  {
   "cell_type": "markdown",
   "id": "f94d56a0-5111-40df-88c9-c4c4b45d4934",
   "metadata": {},
   "source": [
    "## llama3.3"
   ]
  },
  {
   "cell_type": "code",
   "execution_count": null,
   "id": "e04a3fb8-d331-4501-b92d-3dd6cb9d1bba",
   "metadata": {},
   "outputs": [],
   "source": [
    "prompt = \"I love programming. I have been to France, Germany, and Japan. I also want to visit Brazil and Argentina.\"\n",
    "model = \"llama3.3\"\n",
    "\n",
    "result = get_countries(model, prompt)\n",
    "print(\"result:\", result.output)"
   ]
  }
 ],
 "metadata": {
  "kernelspec": {
   "display_name": "Python 3 (ipykernel)",
   "language": "python",
   "name": "python3"
  },
  "language_info": {
   "codemirror_mode": {
    "name": "ipython",
    "version": 3
   },
   "file_extension": ".py",
   "mimetype": "text/x-python",
   "name": "python",
   "nbconvert_exporter": "python",
   "pygments_lexer": "ipython3",
   "version": "3.11.0"
  }
 },
 "nbformat": 4,
 "nbformat_minor": 5
}
