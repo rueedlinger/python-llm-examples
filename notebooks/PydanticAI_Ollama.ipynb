{
 "cells": [
  {
   "cell_type": "markdown",
   "id": "52441162-2bda-4b78-a0b9-a21231e48f5c",
   "metadata": {},
   "source": [
    "# Pydantic AI Integration with Ollama\n",
    "\n",
    "This example demonstrates how to use Pydantic AI with Ollama to run different LLM models locally. It supports various Llama models including llama3.2:1b, llama3.2:3b, and llama3.3.\n",
    "\n",
    "Prerequisites:\n",
    "- Ollama must be installed and running locally\n",
    "- The desired Llama models must be pulled using Ollama (e.g., `ollama pull llama3.3`)"
   ]
  },
  {
   "cell_type": "code",
   "execution_count": 1,
   "id": "36c786b0-888a-4001-8aa3-7ed2165e4edd",
   "metadata": {},
   "outputs": [],
   "source": [
    "# Try the following to run asynchronous code on a notebook (you might pip install nest_asyncio if not already)\n",
    "\n",
    "import nest_asyncio\n",
    "nest_asyncio.apply()\n"
   ]
  },
  {
   "cell_type": "code",
   "execution_count": 2,
   "id": "0038c472-7c45-42cb-96cd-efceeb534ea0",
   "metadata": {},
   "outputs": [],
   "source": [
    "from typing import List\n",
    "\n",
    "from pydantic import BaseModel\n",
    "from pydantic_ai import Agent\n",
    "from pydantic_ai.models.openai import OpenAIModel\n",
    "from pydantic_ai.providers.openai import OpenAIProvider\n",
    "\n",
    "\n",
    "class Result(BaseModel):\n",
    "    \"\"\"Result class for the agent.\"\"\"\n",
    "\n",
    "    countries: List[str] = []\n",
    "\n",
    "\n",
    "def get_countries(model_id: str, query: str):\n",
    "    ollama_model = OpenAIModel(\n",
    "        model_name=model_id,\n",
    "        provider=OpenAIProvider(base_url=\"http://localhost:11434/v1\"),\n",
    "    )\n",
    "    agent = Agent(\n",
    "        model=ollama_model,\n",
    "        output_type=Result,\n",
    "        retries=5,\n",
    "        system_prompt=(\n",
    "            \"You are a helpful AI assistant. \"\n",
    "            \"You will be given a a text and you need to extract the countries from it. \"\n",
    "        ),\n",
    "    )\n",
    "    result = agent.run_sync(query)\n",
    "    return result"
   ]
  },
  {
   "cell_type": "markdown",
   "id": "cf2e567a-c2da-4d79-a67e-17c590f07b4f",
   "metadata": {},
   "source": [
    "## llama3.2:1b"
   ]
  },
  {
   "cell_type": "code",
   "execution_count": 4,
   "id": "50b4c610-bb5d-4561-a25b-cc241d8e9d84",
   "metadata": {},
   "outputs": [
    {
     "name": "stdout",
     "output_type": "stream",
     "text": [
      "result: countries=[]\n"
     ]
    }
   ],
   "source": [
    "models = [\"llama3.2:1b\", \"llama3.2:3b\", \"llama3.3\"]\n",
    "\n",
    "prompt = \"I love programming. I have been to France, Germany, and Japan. I also want to visit Brazil and Argentina.\"\n",
    "model = \"llama3.2:1b\"\n",
    "\n",
    "result = get_countries(model, prompt)\n",
    "print(\"result:\", result.output)\n",
    "\n"
   ]
  },
  {
   "cell_type": "markdown",
   "id": "f543ed94-deb5-4540-aea8-3f5d82656d80",
   "metadata": {},
   "source": [
    "## llama3.2:3b"
   ]
  },
  {
   "cell_type": "code",
   "execution_count": 5,
   "id": "5c9e597b-1e06-4359-94cf-a399e7b90d64",
   "metadata": {},
   "outputs": [
    {
     "name": "stdout",
     "output_type": "stream",
     "text": [
      "result: countries=[' Brazil', ' Argentina']\n"
     ]
    }
   ],
   "source": [
    "prompt = \"I love programming. I have been to France, Germany, and Japan. I also want to visit Brazil and Argentina.\"\n",
    "model = \"llama3.2:3b\"\n",
    "\n",
    "result = get_countries(model, prompt)\n",
    "print(\"result:\", result.output)"
   ]
  },
  {
   "cell_type": "markdown",
   "id": "f94d56a0-5111-40df-88c9-c4c4b45d4934",
   "metadata": {},
   "source": [
    "## llama3.3"
   ]
  },
  {
   "cell_type": "code",
   "execution_count": 6,
   "id": "e04a3fb8-d331-4501-b92d-3dd6cb9d1bba",
   "metadata": {},
   "outputs": [
    {
     "name": "stdout",
     "output_type": "stream",
     "text": [
      "result: countries=['France', 'Germany', 'Japan', 'Brazil', 'Argentina']\n"
     ]
    }
   ],
   "source": [
    "prompt = \"I love programming. I have been to France, Germany, and Japan. I also want to visit Brazil and Argentina.\"\n",
    "model = \"llama3.3\"\n",
    "\n",
    "result = get_countries(model, prompt)\n",
    "print(\"result:\", result.output)"
   ]
  },
  {
   "cell_type": "code",
   "execution_count": null,
   "id": "3c7a7da2-383d-450f-ad3c-fab53c4fdcec",
   "metadata": {},
   "outputs": [],
   "source": []
  }
 ],
 "metadata": {
  "kernelspec": {
   "display_name": "Python 3 (ipykernel)",
   "language": "python",
   "name": "python3"
  },
  "language_info": {
   "codemirror_mode": {
    "name": "ipython",
    "version": 3
   },
   "file_extension": ".py",
   "mimetype": "text/x-python",
   "name": "python",
   "nbconvert_exporter": "python",
   "pygments_lexer": "ipython3",
   "version": "3.11.0"
  }
 },
 "nbformat": 4,
 "nbformat_minor": 5
}
